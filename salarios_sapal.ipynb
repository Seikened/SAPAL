{
 "cells": [
  {
   "cell_type": "code",
   "execution_count": 37,
   "id": "9423f050",
   "metadata": {},
   "outputs": [],
   "source": [
    "import polars as pl\n",
    "import matplotlib.pyplot as plt\n",
    "import pathlib\n"
   ]
  },
  {
   "cell_type": "code",
   "execution_count": 38,
   "id": "ac4f7916",
   "metadata": {},
   "outputs": [
    {
     "data": {
      "text/html": [
       "<div><style>\n",
       ".dataframe > thead > tr,\n",
       ".dataframe > tbody > tr {\n",
       "  text-align: right;\n",
       "  white-space: pre-wrap;\n",
       "}\n",
       "</style>\n",
       "<small>shape: (5, 2)</small><table border=\"1\" class=\"dataframe\"><thead><tr><th>denominacion_del_cargo</th><th>monto_mensual_bruto_de_la_remuneracion_en_tabulador</th></tr><tr><td>str</td><td>f64</td></tr></thead><tbody><tr><td>&quot;SECRETARIA&quot;</td><td>10416.6</td></tr><tr><td>&quot;PROGRAMADORA ANALISTA &quot;A&quot;&quot;</td><td>16699.0</td></tr><tr><td>&quot;SUP. CATASTRO FISICO INST.&quot;</td><td>19532.3</td></tr><tr><td>&quot;AUX. ADMINISTRATIVA REDES&quot;</td><td>12696.0</td></tr><tr><td>&quot;EJECUTIVA DEL SISTEMA DE ATENC…</td><td>15239.8</td></tr></tbody></table></div>"
      ],
      "text/plain": [
       "shape: (5, 2)\n",
       "┌─────────────────────────────────┬─────────────────────────────────┐\n",
       "│ denominacion_del_cargo          ┆ monto_mensual_bruto_de_la_remu… │\n",
       "│ ---                             ┆ ---                             │\n",
       "│ str                             ┆ f64                             │\n",
       "╞═════════════════════════════════╪═════════════════════════════════╡\n",
       "│ SECRETARIA                      ┆ 10416.6                         │\n",
       "│ PROGRAMADORA ANALISTA \"A\"       ┆ 16699.0                         │\n",
       "│ SUP. CATASTRO FISICO INST.      ┆ 19532.3                         │\n",
       "│ AUX. ADMINISTRATIVA REDES       ┆ 12696.0                         │\n",
       "│ EJECUTIVA DEL SISTEMA DE ATENC… ┆ 15239.8                         │\n",
       "└─────────────────────────────────┴─────────────────────────────────┘"
      ]
     },
     "execution_count": 38,
     "metadata": {},
     "output_type": "execute_result"
    }
   ],
   "source": [
    "\n",
    "\n",
    "ruta = pathlib.Path().parent.resolve()\n",
    "data = f\"{ruta}/data/sapal_salarios_clean.csv\"\n",
    "\n",
    "\n",
    "salarios_sapal =(\n",
    "    pl.scan_csv(data)\n",
    ")\n",
    "\n",
    "df_filtrado = (\n",
    "    salarios_sapal.select([\n",
    "        \"denominacion_del_cargo\",\n",
    "        \"monto_mensual_bruto_de_la_remuneracion_en_tabulador\"\n",
    "    ])\n",
    ")\n",
    "\n",
    "df_filtrado.limit(5).collect()\n"
   ]
  },
  {
   "cell_type": "code",
   "execution_count": 39,
   "id": "0f688e6a",
   "metadata": {},
   "outputs": [
    {
     "name": "stderr",
     "output_type": "stream",
     "text": [
      "/var/folders/j4/21ypxx3x0019wgj7rqnlm2340000gn/T/ipykernel_33830/1013323216.py:1: PerformanceWarning: Determining the column names of a LazyFrame requires resolving its schema, which is a potentially expensive operation. Use `LazyFrame.collect_schema().names()` to get the column names without this warning.\n",
      "  df_filtrado.columns\n"
     ]
    },
    {
     "data": {
      "text/plain": [
       "['denominacion_del_cargo',\n",
       " 'monto_mensual_bruto_de_la_remuneracion_en_tabulador']"
      ]
     },
     "execution_count": 39,
     "metadata": {},
     "output_type": "execute_result"
    }
   ],
   "source": [
    "df_filtrado.columns"
   ]
  }
 ],
 "metadata": {
  "kernelspec": {
   "display_name": "sapal",
   "language": "python",
   "name": "python3"
  },
  "language_info": {
   "codemirror_mode": {
    "name": "ipython",
    "version": 3
   },
   "file_extension": ".py",
   "mimetype": "text/x-python",
   "name": "python",
   "nbconvert_exporter": "python",
   "pygments_lexer": "ipython3",
   "version": "3.12.9"
  }
 },
 "nbformat": 4,
 "nbformat_minor": 5
}
