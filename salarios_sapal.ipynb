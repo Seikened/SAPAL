{
 "cells": [
  {
   "cell_type": "code",
   "execution_count": 91,
   "id": "9423f050",
   "metadata": {},
   "outputs": [],
   "source": [
    "import polars as pl\n",
    "import matplotlib.pyplot as plt\n",
    "import pathlib\n"
   ]
  },
  {
   "cell_type": "code",
   "execution_count": 92,
   "id": "ac4f7916",
   "metadata": {},
   "outputs": [
    {
     "data": {
      "text/html": [
       "<div><style>\n",
       ".dataframe > thead > tr,\n",
       ".dataframe > tbody > tr {\n",
       "  text-align: right;\n",
       "  white-space: pre-wrap;\n",
       "}\n",
       "</style>\n",
       "<small>shape: (1_605, 2)</small><table border=\"1\" class=\"dataframe\"><thead><tr><th>cargo</th><th>salario_bruto_mensual</th></tr><tr><td>str</td><td>f64</td></tr></thead><tbody><tr><td>&quot;SECRETARIA&quot;</td><td>10416.6</td></tr><tr><td>&quot;PROGRAMADORA ANALISTA &quot;A&quot;&quot;</td><td>16699.0</td></tr><tr><td>&quot;SUP. CATASTRO FISICO INST.&quot;</td><td>19532.3</td></tr><tr><td>&quot;AUX. ADMINISTRATIVA REDES&quot;</td><td>12696.0</td></tr><tr><td>&quot;EJECUTIVA DEL SISTEMA DE ATENC…</td><td>15239.8</td></tr><tr><td>&hellip;</td><td>&hellip;</td></tr><tr><td>&quot;CHOFER DE TOLVA&quot;</td><td>13921.1</td></tr><tr><td>&quot;CHOFER DE TOLVA&quot;</td><td>13921.1</td></tr><tr><td>&quot;VIGILANTE DE POZOS&quot;</td><td>13653.9</td></tr><tr><td>&quot;CHOFER DE TOLVA&quot;</td><td>13921.1</td></tr><tr><td>&quot;CORTADOR &quot;A&quot;&quot;</td><td>13256.2</td></tr></tbody></table></div>"
      ],
      "text/plain": [
       "shape: (1_605, 2)\n",
       "┌─────────────────────────────────┬───────────────────────┐\n",
       "│ cargo                           ┆ salario_bruto_mensual │\n",
       "│ ---                             ┆ ---                   │\n",
       "│ str                             ┆ f64                   │\n",
       "╞═════════════════════════════════╪═══════════════════════╡\n",
       "│ SECRETARIA                      ┆ 10416.6               │\n",
       "│ PROGRAMADORA ANALISTA \"A\"       ┆ 16699.0               │\n",
       "│ SUP. CATASTRO FISICO INST.      ┆ 19532.3               │\n",
       "│ AUX. ADMINISTRATIVA REDES       ┆ 12696.0               │\n",
       "│ EJECUTIVA DEL SISTEMA DE ATENC… ┆ 15239.8               │\n",
       "│ …                               ┆ …                     │\n",
       "│ CHOFER DE TOLVA                 ┆ 13921.1               │\n",
       "│ CHOFER DE TOLVA                 ┆ 13921.1               │\n",
       "│ VIGILANTE DE POZOS              ┆ 13653.9               │\n",
       "│ CHOFER DE TOLVA                 ┆ 13921.1               │\n",
       "│ CORTADOR \"A\"                    ┆ 13256.2               │\n",
       "└─────────────────────────────────┴───────────────────────┘"
      ]
     },
     "execution_count": 92,
     "metadata": {},
     "output_type": "execute_result"
    }
   ],
   "source": [
    "\n",
    "\n",
    "ruta = pathlib.Path().parent.resolve()\n",
    "data = f\"{ruta}/data/sapal_salarios_clean.csv\"\n",
    "\n",
    "\n",
    "salarios_sapal =(\n",
    "    pl.scan_csv(data)\n",
    ")\n",
    "\n",
    "df_filtrado = (\n",
    "    salarios_sapal\n",
    "    .select([\n",
    "        pl.col(\"denominacion_del_cargo\").alias(\"cargo\"),\n",
    "        pl.col(\"monto_mensual_bruto_de_la_remuneracion_en_tabulador\").alias(\"salario_bruto_mensual\")\n",
    "    ])\n",
    "\n",
    ")\n",
    "\n",
    "\n",
    "\n",
    "df_cargos_unicos = (\n",
    "    df_filtrado\n",
    "    .select(\n",
    "        pl.col(\"cargo\")\n",
    "    )\n",
    "    .unique()\n",
    "    .sort(\"cargo\")\n",
    "    .collect()\n",
    "    .get_column(\"cargo\")\n",
    "    .to_list()\n",
    ")\n",
    "\n",
    "\n",
    "df_filtrado.collect()\n"
   ]
  },
  {
   "cell_type": "code",
   "execution_count": 93,
   "id": "e2eaccbe",
   "metadata": {},
   "outputs": [
    {
     "data": {
      "text/html": [
       "<div><style>\n",
       ".dataframe > thead > tr,\n",
       ".dataframe > tbody > tr {\n",
       "  text-align: right;\n",
       "  white-space: pre-wrap;\n",
       "}\n",
       "</style>\n",
       "<small>shape: (427, 5)</small><table border=\"1\" class=\"dataframe\"><thead><tr><th>cargo</th><th>num_personas_en_cargo</th><th>salario_bruto_promedio</th><th>salario_bruto_max</th><th>costo_bruto_total_mensual_cargo</th></tr><tr><td>str</td><td>u32</td><td>f64</td><td>f64</td><td>f64</td></tr></thead><tbody><tr><td>&quot;DIRECTOR GENERAL&quot;</td><td>1</td><td>141667.3</td><td>141667.3</td><td>141667.3</td></tr><tr><td>&quot;SUBDIRECTOR GENERAL OPERATIVO&quot;</td><td>1</td><td>101905.4</td><td>101905.4</td><td>101905.4</td></tr><tr><td>&quot;SUBDIRECTORA DE PLANEACION&quot;</td><td>1</td><td>90119.6</td><td>90119.6</td><td>90119.6</td></tr><tr><td>&quot;PROSECRETARIO&quot;</td><td>1</td><td>86502.0</td><td>86502.0</td><td>86502.0</td></tr><tr><td>&quot;JEFA DE CONTRALORIA&quot;</td><td>1</td><td>86502.0</td><td>86502.0</td><td>86502.0</td></tr><tr><td>&hellip;</td><td>&hellip;</td><td>&hellip;</td><td>&hellip;</td><td>&hellip;</td></tr><tr><td>&quot;PEON LABORATORIO&quot;</td><td>2</td><td>9800.0</td><td>9800.0</td><td>19600.0</td></tr><tr><td>&quot;PEON ALCANTARILLADO&quot;</td><td>24</td><td>9800.0</td><td>9800.0</td><td>235200.0</td></tr><tr><td>&quot;PEON PLANTAS DE TRATAMIENTO&quot;</td><td>40</td><td>9800.0</td><td>9800.0</td><td>392000.0</td></tr><tr><td>&quot;PEON FISCALIZACION ECOLOGICA&quot;</td><td>4</td><td>9800.0</td><td>9800.0</td><td>39200.0</td></tr><tr><td>&quot;EVENTUAL&quot;</td><td>112</td><td>9800.0</td><td>9800.0</td><td>1.0976e6</td></tr></tbody></table></div>"
      ],
      "text/plain": [
       "shape: (427, 5)\n",
       "┌───────────────────┬───────────────────┬───────────────────┬───────────────────┬──────────────────┐\n",
       "│ cargo             ┆ num_personas_en_c ┆ salario_bruto_pro ┆ salario_bruto_max ┆ costo_bruto_tota │\n",
       "│ ---               ┆ argo              ┆ medio             ┆ ---               ┆ l_mensual_carg…  │\n",
       "│ str               ┆ ---               ┆ ---               ┆ f64               ┆ ---              │\n",
       "│                   ┆ u32               ┆ f64               ┆                   ┆ f64              │\n",
       "╞═══════════════════╪═══════════════════╪═══════════════════╪═══════════════════╪══════════════════╡\n",
       "│ DIRECTOR GENERAL  ┆ 1                 ┆ 141667.3          ┆ 141667.3          ┆ 141667.3         │\n",
       "│ SUBDIRECTOR       ┆ 1                 ┆ 101905.4          ┆ 101905.4          ┆ 101905.4         │\n",
       "│ GENERAL OPERATIVO ┆                   ┆                   ┆                   ┆                  │\n",
       "│ SUBDIRECTORA DE   ┆ 1                 ┆ 90119.6           ┆ 90119.6           ┆ 90119.6          │\n",
       "│ PLANEACION        ┆                   ┆                   ┆                   ┆                  │\n",
       "│ PROSECRETARIO     ┆ 1                 ┆ 86502.0           ┆ 86502.0           ┆ 86502.0          │\n",
       "│ JEFA DE           ┆ 1                 ┆ 86502.0           ┆ 86502.0           ┆ 86502.0          │\n",
       "│ CONTRALORIA       ┆                   ┆                   ┆                   ┆                  │\n",
       "│ …                 ┆ …                 ┆ …                 ┆ …                 ┆ …                │\n",
       "│ PEON LABORATORIO  ┆ 2                 ┆ 9800.0            ┆ 9800.0            ┆ 19600.0          │\n",
       "│ PEON              ┆ 24                ┆ 9800.0            ┆ 9800.0            ┆ 235200.0         │\n",
       "│ ALCANTARILLADO    ┆                   ┆                   ┆                   ┆                  │\n",
       "│ PEON PLANTAS DE   ┆ 40                ┆ 9800.0            ┆ 9800.0            ┆ 392000.0         │\n",
       "│ TRATAMIENTO       ┆                   ┆                   ┆                   ┆                  │\n",
       "│ PEON              ┆ 4                 ┆ 9800.0            ┆ 9800.0            ┆ 39200.0          │\n",
       "│ FISCALIZACION     ┆                   ┆                   ┆                   ┆                  │\n",
       "│ ECOLOGICA         ┆                   ┆                   ┆                   ┆                  │\n",
       "│ EVENTUAL          ┆ 112               ┆ 9800.0            ┆ 9800.0            ┆ 1.0976e6         │\n",
       "└───────────────────┴───────────────────┴───────────────────┴───────────────────┴──────────────────┘"
      ]
     },
     "execution_count": 93,
     "metadata": {},
     "output_type": "execute_result"
    }
   ],
   "source": [
    "\n",
    "\n",
    "lf = (\n",
    "    pl.scan_csv(\"data/sapal_salarios_clean.csv\")\n",
    "    .select([\n",
    "        pl.col(\"denominacion_del_cargo\").alias(\"cargo\"),\n",
    "        pl.col(\"monto_mensual_bruto_de_la_remuneracion_en_tabulador\")\n",
    "          .alias(\"salario_bruto_mensual\"),\n",
    "    ])\n",
    "    .filter(\n",
    "        pl.col(\"cargo\").is_not_null() & (pl.col(\"cargo\") != \"\")\n",
    "    )\n",
    "    .filter(\n",
    "        pl.col(\"salario_bruto_mensual\").is_not_null()\n",
    "    )\n",
    ")\n",
    "\n",
    "lf_resumen_cargos = (\n",
    "    lf\n",
    "    .group_by(\"cargo\")  # agrupamos en lazy\n",
    "    .agg([\n",
    "        pl.len().alias(\"num_personas_en_cargo\"),\n",
    "        pl.col(\"salario_bruto_mensual\").mean().alias(\"salario_bruto_promedio\"),\n",
    "        pl.col(\"salario_bruto_mensual\").max().alias(\"salario_bruto_max\"),\n",
    "        pl.col(\"salario_bruto_mensual\").sum().alias(\"costo_bruto_total_mensual_cargo\"),\n",
    "    ])\n",
    "    .sort(\"salario_bruto_promedio\", descending=True)\n",
    ")\n",
    "\n",
    "# ahora sí ejecutamos:\n",
    "df_resumen_cargos = lf_resumen_cargos.collect()\n",
    "df_resumen_cargos"
   ]
  },
  {
   "cell_type": "code",
   "execution_count": 94,
   "id": "667c5311",
   "metadata": {},
   "outputs": [
    {
     "name": "stdout",
     "output_type": "stream",
     "text": [
      "Total de trabajadores: 1605\n"
     ]
    }
   ],
   "source": [
    "print(f\"Total de trabajadores: {df_resumen_cargos['num_personas_en_cargo'].sum()}\")"
   ]
  },
  {
   "cell_type": "code",
   "execution_count": 95,
   "id": "0436e136",
   "metadata": {},
   "outputs": [
    {
     "name": "stdout",
     "output_type": "stream",
     "text": [
      "Se encontraron todos los cargos importantes: 22/22\n"
     ]
    }
   ],
   "source": [
    "\n",
    "\n",
    "lista_cargos_importantes = [\n",
    "    'JEFE DE SISTEMAS COMPUTACIONALES',\n",
    "    'GERENTE COMERCIAL',\n",
    "    'DIRECTOR GENERAL',\n",
    "    'GERENTE DE CALIDAD DEL AGUA Y FISCALIZACION',\n",
    "    'GERENTE DE SUPERVISION DE OBRA',\n",
    "    'JEFE DE PROYECTOS',\n",
    "    'GERENTE DE FINANZAS',\n",
    "    'GERENTE DE PROYECTOS Y COSTOS',\n",
    "    'SUBDIRECTORA DE PLANEACION',\n",
    "    'ADMINISTRADOR DE REDES Y COMUNICACIONES',\n",
    "    'GERENTE DE AGUA POTABLE Y ALCANTARILLADO',\n",
    "    'PROGRAMADORA ANALISTA \"A\"',\n",
    "    'PROGRAMADOR ANALISTA\"B\"',\n",
    "    'PROGRAMADOR ANALISTA',\n",
    "    'PROGRAMADORA ANALISTA',\n",
    "    'JEFE DE TECNOLOGIAS DE LA OPERACION',\n",
    "    'SUBDIRECTOR GENERAL OPERATIVO',\n",
    "    'JEFE DE PLANEACION HIDRICA',\n",
    "    'JEFE DE COMUNICACION',\n",
    "    'JEFE DE COSTOS Y EVALUACION',\n",
    "    'GERENTE DE TECNOLOGIAS DE LA INFORMACION Y COMUNICACION',\n",
    "    'GERENTE SERVICIOS ADMINISTRATIVOS'\n",
    "]\n",
    "\n",
    "\n",
    "cargo_encontrados = []\n",
    "\n",
    "for cargo in df_cargos_unicos:\n",
    "    if cargo  in lista_cargos_importantes:\n",
    "        cargo_encontrados.append(cargo)\n",
    "if len(cargo_encontrados) == len(lista_cargos_importantes):\n",
    "    print(f\"Se encontraron todos los cargos importantes: {len(lista_cargos_importantes)}/{len(cargo_encontrados)}\")\n",
    "\n"
   ]
  },
  {
   "cell_type": "code",
   "execution_count": 96,
   "id": "0f688e6a",
   "metadata": {},
   "outputs": [
    {
     "name": "stderr",
     "output_type": "stream",
     "text": [
      "/var/folders/j4/21ypxx3x0019wgj7rqnlm2340000gn/T/ipykernel_46234/1013323216.py:1: PerformanceWarning: Determining the column names of a LazyFrame requires resolving its schema, which is a potentially expensive operation. Use `LazyFrame.collect_schema().names()` to get the column names without this warning.\n",
      "  df_filtrado.columns\n"
     ]
    },
    {
     "data": {
      "text/plain": [
       "['cargo', 'salario_bruto_mensual']"
      ]
     },
     "execution_count": 96,
     "metadata": {},
     "output_type": "execute_result"
    }
   ],
   "source": [
    "df_filtrado.columns"
   ]
  }
 ],
 "metadata": {
  "kernelspec": {
   "display_name": "sapal",
   "language": "python",
   "name": "python3"
  },
  "language_info": {
   "codemirror_mode": {
    "name": "ipython",
    "version": 3
   },
   "file_extension": ".py",
   "mimetype": "text/x-python",
   "name": "python",
   "nbconvert_exporter": "python",
   "pygments_lexer": "ipython3",
   "version": "3.12.9"
  }
 },
 "nbformat": 4,
 "nbformat_minor": 5
}
