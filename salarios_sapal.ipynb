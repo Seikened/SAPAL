{
 "cells": [
  {
   "cell_type": "code",
   "execution_count": 429,
   "id": "9423f050",
   "metadata": {},
   "outputs": [],
   "source": [
    "import polars as pl\n",
    "import matplotlib.pyplot as plt\n",
    "import pathlib\n"
   ]
  },
  {
   "cell_type": "code",
   "execution_count": 430,
   "id": "ac4f7916",
   "metadata": {},
   "outputs": [
    {
     "data": {
      "text/html": [
       "<div><style>\n",
       ".dataframe > thead > tr,\n",
       ".dataframe > tbody > tr {\n",
       "  text-align: right;\n",
       "  white-space: pre-wrap;\n",
       "}\n",
       "</style>\n",
       "<small>shape: (1_605, 2)</small><table border=\"1\" class=\"dataframe\"><thead><tr><th>cargo</th><th>salario_bruto_mensual</th></tr><tr><td>str</td><td>f64</td></tr></thead><tbody><tr><td>&quot;SECRETARIA&quot;</td><td>10416.6</td></tr><tr><td>&quot;PROGRAMADORA ANALISTA &quot;A&quot;&quot;</td><td>16699.0</td></tr><tr><td>&quot;SUP. CATASTRO FISICO INST.&quot;</td><td>19532.3</td></tr><tr><td>&quot;AUX. ADMINISTRATIVA REDES&quot;</td><td>12696.0</td></tr><tr><td>&quot;EJECUTIVA DEL SISTEMA DE ATENC…</td><td>15239.8</td></tr><tr><td>&hellip;</td><td>&hellip;</td></tr><tr><td>&quot;CHOFER DE TOLVA&quot;</td><td>13921.1</td></tr><tr><td>&quot;CHOFER DE TOLVA&quot;</td><td>13921.1</td></tr><tr><td>&quot;VIGILANTE DE POZOS&quot;</td><td>13653.9</td></tr><tr><td>&quot;CHOFER DE TOLVA&quot;</td><td>13921.1</td></tr><tr><td>&quot;CORTADOR &quot;A&quot;&quot;</td><td>13256.2</td></tr></tbody></table></div>"
      ],
      "text/plain": [
       "shape: (1_605, 2)\n",
       "┌─────────────────────────────────┬───────────────────────┐\n",
       "│ cargo                           ┆ salario_bruto_mensual │\n",
       "│ ---                             ┆ ---                   │\n",
       "│ str                             ┆ f64                   │\n",
       "╞═════════════════════════════════╪═══════════════════════╡\n",
       "│ SECRETARIA                      ┆ 10416.6               │\n",
       "│ PROGRAMADORA ANALISTA \"A\"       ┆ 16699.0               │\n",
       "│ SUP. CATASTRO FISICO INST.      ┆ 19532.3               │\n",
       "│ AUX. ADMINISTRATIVA REDES       ┆ 12696.0               │\n",
       "│ EJECUTIVA DEL SISTEMA DE ATENC… ┆ 15239.8               │\n",
       "│ …                               ┆ …                     │\n",
       "│ CHOFER DE TOLVA                 ┆ 13921.1               │\n",
       "│ CHOFER DE TOLVA                 ┆ 13921.1               │\n",
       "│ VIGILANTE DE POZOS              ┆ 13653.9               │\n",
       "│ CHOFER DE TOLVA                 ┆ 13921.1               │\n",
       "│ CORTADOR \"A\"                    ┆ 13256.2               │\n",
       "└─────────────────────────────────┴───────────────────────┘"
      ]
     },
     "execution_count": 430,
     "metadata": {},
     "output_type": "execute_result"
    }
   ],
   "source": [
    "ruta = pathlib.Path().parent.resolve()\n",
    "data = f\"{ruta}/data/sapal_salarios_clean.csv\"\n",
    "\n",
    "\n",
    "salarios_sapal =(\n",
    "    pl.scan_csv(data)\n",
    ")\n",
    "\n",
    "df_filtrado = (\n",
    "    salarios_sapal\n",
    "    .select([\n",
    "        pl.col(\"denominacion_del_cargo\").alias(\"cargo\"),\n",
    "        pl.col(\"monto_mensual_bruto_de_la_remuneracion_en_tabulador\").alias(\"salario_bruto_mensual\")\n",
    "    ])\n",
    "\n",
    ")\n",
    "\n",
    "\n",
    "\n",
    "df_cargos_unicos = (\n",
    "    df_filtrado\n",
    "    .select(\n",
    "        pl.col(\"cargo\")\n",
    "    )\n",
    "    .unique()\n",
    "    .sort(\"cargo\")\n",
    "    .collect()\n",
    "    .get_column(\"cargo\")\n",
    "    .to_list()\n",
    ")\n",
    "\n",
    "\n",
    "df_filtrado.collect()\n"
   ]
  },
  {
   "cell_type": "code",
   "execution_count": 431,
   "id": "e2eaccbe",
   "metadata": {},
   "outputs": [
    {
     "data": {
      "text/html": [
       "<div><style>\n",
       ".dataframe > thead > tr,\n",
       ".dataframe > tbody > tr {\n",
       "  text-align: right;\n",
       "  white-space: pre-wrap;\n",
       "}\n",
       "</style>\n",
       "<small>shape: (427, 5)</small><table border=\"1\" class=\"dataframe\"><thead><tr><th>cargo</th><th>num_personas_en_cargo</th><th>salario_bruto_promedio</th><th>salario_bruto_max</th><th>costo_bruto_total_mensual_cargo</th></tr><tr><td>str</td><td>u32</td><td>f64</td><td>f64</td><td>f64</td></tr></thead><tbody><tr><td>&quot;DIRECTOR GENERAL&quot;</td><td>1</td><td>141667.3</td><td>141667.3</td><td>141667.3</td></tr><tr><td>&quot;SUBDIRECTOR GENERAL OPERATIVO&quot;</td><td>1</td><td>101905.4</td><td>101905.4</td><td>101905.4</td></tr><tr><td>&quot;SUBDIRECTORA DE PLANEACION&quot;</td><td>1</td><td>90119.6</td><td>90119.6</td><td>90119.6</td></tr><tr><td>&quot;JEFE DE JURIDICO&quot;</td><td>1</td><td>86502.0</td><td>86502.0</td><td>86502.0</td></tr><tr><td>&quot;PROSECRETARIO&quot;</td><td>1</td><td>86502.0</td><td>86502.0</td><td>86502.0</td></tr><tr><td>&hellip;</td><td>&hellip;</td><td>&hellip;</td><td>&hellip;</td><td>&hellip;</td></tr><tr><td>&quot;EVENTUAL&quot;</td><td>112</td><td>9800.0</td><td>9800.0</td><td>1.0976e6</td></tr><tr><td>&quot;PEÓN DE MANTENIMIENTO SERVICIO…</td><td>8</td><td>9800.0</td><td>9800.0</td><td>78400.0</td></tr><tr><td>&quot;PEON ALCANTARILLADO&quot;</td><td>24</td><td>9800.0</td><td>9800.0</td><td>235200.0</td></tr><tr><td>&quot;PEON DE OPERACION&quot;</td><td>56</td><td>9800.0</td><td>9800.0</td><td>548800.0</td></tr><tr><td>&quot;PEON LABORATORIO&quot;</td><td>2</td><td>9800.0</td><td>9800.0</td><td>19600.0</td></tr></tbody></table></div>"
      ],
      "text/plain": [
       "shape: (427, 5)\n",
       "┌───────────────────┬───────────────────┬───────────────────┬───────────────────┬──────────────────┐\n",
       "│ cargo             ┆ num_personas_en_c ┆ salario_bruto_pro ┆ salario_bruto_max ┆ costo_bruto_tota │\n",
       "│ ---               ┆ argo              ┆ medio             ┆ ---               ┆ l_mensual_carg…  │\n",
       "│ str               ┆ ---               ┆ ---               ┆ f64               ┆ ---              │\n",
       "│                   ┆ u32               ┆ f64               ┆                   ┆ f64              │\n",
       "╞═══════════════════╪═══════════════════╪═══════════════════╪═══════════════════╪══════════════════╡\n",
       "│ DIRECTOR GENERAL  ┆ 1                 ┆ 141667.3          ┆ 141667.3          ┆ 141667.3         │\n",
       "│ SUBDIRECTOR       ┆ 1                 ┆ 101905.4          ┆ 101905.4          ┆ 101905.4         │\n",
       "│ GENERAL OPERATIVO ┆                   ┆                   ┆                   ┆                  │\n",
       "│ SUBDIRECTORA DE   ┆ 1                 ┆ 90119.6           ┆ 90119.6           ┆ 90119.6          │\n",
       "│ PLANEACION        ┆                   ┆                   ┆                   ┆                  │\n",
       "│ JEFE DE JURIDICO  ┆ 1                 ┆ 86502.0           ┆ 86502.0           ┆ 86502.0          │\n",
       "│ PROSECRETARIO     ┆ 1                 ┆ 86502.0           ┆ 86502.0           ┆ 86502.0          │\n",
       "│ …                 ┆ …                 ┆ …                 ┆ …                 ┆ …                │\n",
       "│ EVENTUAL          ┆ 112               ┆ 9800.0            ┆ 9800.0            ┆ 1.0976e6         │\n",
       "│ PEÓN DE           ┆ 8                 ┆ 9800.0            ┆ 9800.0            ┆ 78400.0          │\n",
       "│ MANTENIMIENTO     ┆                   ┆                   ┆                   ┆                  │\n",
       "│ SERVICIO…         ┆                   ┆                   ┆                   ┆                  │\n",
       "│ PEON              ┆ 24                ┆ 9800.0            ┆ 9800.0            ┆ 235200.0         │\n",
       "│ ALCANTARILLADO    ┆                   ┆                   ┆                   ┆                  │\n",
       "│ PEON DE OPERACION ┆ 56                ┆ 9800.0            ┆ 9800.0            ┆ 548800.0         │\n",
       "│ PEON LABORATORIO  ┆ 2                 ┆ 9800.0            ┆ 9800.0            ┆ 19600.0          │\n",
       "└───────────────────┴───────────────────┴───────────────────┴───────────────────┴──────────────────┘"
      ]
     },
     "execution_count": 431,
     "metadata": {},
     "output_type": "execute_result"
    }
   ],
   "source": [
    "\n",
    "\n",
    "lf = (\n",
    "    pl.scan_csv(\"data/sapal_salarios_clean.csv\")\n",
    "    .select([\n",
    "        pl.col(\"denominacion_del_cargo\").alias(\"cargo\"),\n",
    "        pl.col(\"monto_mensual_bruto_de_la_remuneracion_en_tabulador\")\n",
    "          .alias(\"salario_bruto_mensual\"),\n",
    "    ])\n",
    "    .filter(\n",
    "        pl.col(\"cargo\").is_not_null() & (pl.col(\"cargo\") != \"\")\n",
    "    )\n",
    "    .filter(\n",
    "        pl.col(\"salario_bruto_mensual\").is_not_null()\n",
    "    )\n",
    ")\n",
    "\n",
    "lf_resumen_cargos = (\n",
    "    lf\n",
    "    .group_by(\"cargo\")\n",
    "    .agg([\n",
    "        pl.len().alias(\"num_personas_en_cargo\"),\n",
    "        pl.col(\"salario_bruto_mensual\").mean().alias(\"salario_bruto_promedio\"),\n",
    "        pl.col(\"salario_bruto_mensual\").max().alias(\"salario_bruto_max\"),\n",
    "        pl.col(\"salario_bruto_mensual\").sum().alias(\"costo_bruto_total_mensual_cargo\"),\n",
    "    ])\n",
    "    .sort(\"salario_bruto_promedio\", descending=True)\n",
    ")\n",
    "\n",
    "# ahora sí ejecutamos:\n",
    "df_resumen_cargos = lf_resumen_cargos.collect()\n",
    "df_resumen_cargos"
   ]
  },
  {
   "cell_type": "code",
   "execution_count": 432,
   "id": "667c5311",
   "metadata": {},
   "outputs": [
    {
     "name": "stdout",
     "output_type": "stream",
     "text": [
      "Total de trabajadores: 1605\n"
     ]
    }
   ],
   "source": [
    "print(f\"Total de trabajadores: {df_resumen_cargos['num_personas_en_cargo'].sum()}\")"
   ]
  },
  {
   "cell_type": "code",
   "execution_count": 433,
   "id": "0436e136",
   "metadata": {},
   "outputs": [
    {
     "name": "stdout",
     "output_type": "stream",
     "text": [
      "Se encontraron todos los cargos importantes: 22/22\n"
     ]
    }
   ],
   "source": [
    "\n",
    "\n",
    "lista_cargos_importantes = [\n",
    "    'DIRECTOR GENERAL',\n",
    "    'JEFE DE SISTEMAS COMPUTACIONALES',\n",
    "    'GERENTE COMERCIAL',\n",
    "    'GERENTE DE CALIDAD DEL AGUA Y FISCALIZACION',\n",
    "    'GERENTE DE SUPERVISION DE OBRA',\n",
    "    'JEFE DE PROYECTOS',\n",
    "    'GERENTE DE FINANZAS',\n",
    "    'GERENTE DE PROYECTOS Y COSTOS',\n",
    "    'SUBDIRECTORA DE PLANEACION',\n",
    "    'ADMINISTRADOR DE REDES Y COMUNICACIONES',\n",
    "    'GERENTE DE AGUA POTABLE Y ALCANTARILLADO',\n",
    "    'PROGRAMADORA ANALISTA \"A\"',\n",
    "    'PROGRAMADOR ANALISTA\"B\"',\n",
    "    'PROGRAMADOR ANALISTA',\n",
    "    'PROGRAMADORA ANALISTA',\n",
    "    'JEFE DE TECNOLOGIAS DE LA OPERACION',\n",
    "    'SUBDIRECTOR GENERAL OPERATIVO',\n",
    "    'JEFE DE PLANEACION HIDRICA',\n",
    "    'JEFE DE COMUNICACION',\n",
    "    'JEFE DE COSTOS Y EVALUACION',\n",
    "    'GERENTE DE TECNOLOGIAS DE LA INFORMACION Y COMUNICACION',\n",
    "    'GERENTE SERVICIOS ADMINISTRATIVOS'\n",
    "]\n",
    "\n",
    "\n",
    "cargo_encontrados = []\n",
    "\n",
    "for cargo in df_cargos_unicos:\n",
    "    if cargo  in lista_cargos_importantes:\n",
    "        cargo_encontrados.append(cargo)\n",
    "if len(cargo_encontrados) == len(lista_cargos_importantes):\n",
    "    print(f\"Se encontraron todos los cargos importantes: {len(lista_cargos_importantes)}/{len(cargo_encontrados)}\")\n",
    "\n"
   ]
  },
  {
   "cell_type": "code",
   "execution_count": 434,
   "id": "7a520f4b",
   "metadata": {},
   "outputs": [],
   "source": [
    "df_trabajadores_de_interes = (\n",
    "    df_filtrado\n",
    "    .filter(\n",
    "        pl.col(\"cargo\").is_in(cargo_encontrados)\n",
    "    )\n",
    "    .sort(\"salario_bruto_mensual\", descending=True)\n",
    "    .collect()\n",
    ")\n",
    "\n"
   ]
  },
  {
   "cell_type": "code",
   "execution_count": 435,
   "id": "b51b50b6",
   "metadata": {},
   "outputs": [
    {
     "data": {
      "text/plain": [
       "(30, 2)"
      ]
     },
     "execution_count": 435,
     "metadata": {},
     "output_type": "execute_result"
    }
   ],
   "source": [
    "df_trabajadores_de_interes.shape"
   ]
  },
  {
   "cell_type": "code",
   "execution_count": 436,
   "id": "e755e6ad",
   "metadata": {},
   "outputs": [
    {
     "name": "stdout",
     "output_type": "stream",
     "text": [
      "                                            DIRECTOR GENERAL: $141,667\n",
      "                               SUBDIRECTOR GENERAL OPERATIVO: $101,905\n",
      "                                  SUBDIRECTORA DE PLANEACION: $90,120\n",
      "                                           GERENTE COMERCIAL: $86,502\n",
      "                 GERENTE DE CALIDAD DEL AGUA Y FISCALIZACION: $76,961\n",
      "                              GERENTE DE SUPERVISION DE OBRA: $76,961\n",
      "                                         GERENTE DE FINANZAS: $76,961\n",
      "                               GERENTE DE PROYECTOS Y COSTOS: $76,961\n",
      "                    GERENTE DE AGUA POTABLE Y ALCANTARILLADO: $76,961\n",
      "     GERENTE DE TECNOLOGIAS DE LA INFORMACION Y COMUNICACION: $76,961\n",
      "                           GERENTE SERVICIOS ADMINISTRATIVOS: $76,961\n",
      "                                        JEFE DE COMUNICACION: $75,488\n",
      "                            JEFE DE SISTEMAS COMPUTACIONALES: $50,493\n",
      "                                           JEFE DE PROYECTOS: $50,493\n",
      "                         JEFE DE TECNOLOGIAS DE LA OPERACION: $50,493\n",
      "                                  JEFE DE PLANEACION HIDRICA: $50,493\n",
      "                                 JEFE DE COSTOS Y EVALUACION: $50,493\n",
      "                                        PROGRAMADOR ANALISTA: $21,249\n",
      "                                        PROGRAMADOR ANALISTA: $21,249\n",
      "                                        PROGRAMADOR ANALISTA: $21,249\n",
      "                                       PROGRAMADORA ANALISTA: $21,249\n",
      "                                        PROGRAMADOR ANALISTA: $21,249\n",
      "                                        PROGRAMADOR ANALISTA: $21,249\n",
      "                                       PROGRAMADORA ANALISTA: $21,249\n",
      "                                        PROGRAMADOR ANALISTA: $21,249\n",
      "                                       PROGRAMADORA ANALISTA: $21,249\n",
      "                                        PROGRAMADOR ANALISTA: $21,249\n",
      "                     ADMINISTRADOR DE REDES Y COMUNICACIONES: $20,592\n",
      "                                   PROGRAMADORA ANALISTA \"A\": $16,699\n",
      "                                     PROGRAMADOR ANALISTA\"B\": $16,699\n"
     ]
    }
   ],
   "source": [
    "for cargo,sueldo in zip(\n",
    "    df_trabajadores_de_interes[\"cargo\"],\n",
    "    df_trabajadores_de_interes[\"salario_bruto_mensual\"]\n",
    "):\n",
    "    print(f\"{cargo:>60}: ${sueldo:,.0f}\")\n"
   ]
  },
  {
   "cell_type": "code",
   "execution_count": 437,
   "id": "eb7c0519",
   "metadata": {},
   "outputs": [
    {
     "name": "stdout",
     "output_type": "stream",
     "text": [
      "shape: (10, 4)\n",
      "┌─────────────────────────────────┬───────────────────────┬────────────────┬─────────────┐\n",
      "│ cargo                           ┆ salario_bruto_mensual ┆ sueldo_semanal ┆ sueldo_hora │\n",
      "│ ---                             ┆ ---                   ┆ ---            ┆ ---         │\n",
      "│ str                             ┆ f64                   ┆ f64            ┆ f64         │\n",
      "╞═════════════════════════════════╪═══════════════════════╪════════════════╪═════════════╡\n",
      "│ DIRECTOR GENERAL                ┆ 141667.3              ┆ 35416.825      ┆ 737.850521  │\n",
      "│ SUBDIRECTOR GENERAL OPERATIVO   ┆ 101905.4              ┆ 25476.35       ┆ 530.757292  │\n",
      "│ SUBDIRECTORA DE PLANEACION      ┆ 90119.6               ┆ 22529.9        ┆ 469.372917  │\n",
      "│ GERENTE COMERCIAL               ┆ 86502.0               ┆ 21625.5        ┆ 450.53125   │\n",
      "│ GERENTE DE CALIDAD DEL AGUA Y … ┆ 76961.2               ┆ 19240.3        ┆ 400.839583  │\n",
      "│ GERENTE DE SUPERVISION DE OBRA  ┆ 76961.2               ┆ 19240.3        ┆ 400.839583  │\n",
      "│ GERENTE DE FINANZAS             ┆ 76961.2               ┆ 19240.3        ┆ 400.839583  │\n",
      "│ GERENTE DE PROYECTOS Y COSTOS   ┆ 76961.2               ┆ 19240.3        ┆ 400.839583  │\n",
      "│ GERENTE DE AGUA POTABLE Y ALCA… ┆ 76961.2               ┆ 19240.3        ┆ 400.839583  │\n",
      "│ GERENTE DE TECNOLOGIAS DE LA I… ┆ 76961.2               ┆ 19240.3        ┆ 400.839583  │\n",
      "└─────────────────────────────────┴───────────────────────┴────────────────┴─────────────┘\n",
      "8,090.38\n",
      "Costo hora en 3 dias de decision: $5,825,074.50\n"
     ]
    }
   ],
   "source": [
    "\n",
    "HORAS_SEMANA = 48  # horas laborales por semana por persona\n",
    "HORAS_DECISION_DEFAULT = 30.0  # horas/mes dedicadas a toma de decisiones por persona (ajusta tú)\n",
    "HORAS_DECISION_EQUIPO_MES = 30.0  # horas totales/mes del EQUIPO entero en modo decisión (top-down)\n",
    "\n",
    "df = df_trabajadores_de_interes.clone()\n",
    "\n",
    "\n",
    "\n",
    "\n",
    "\n",
    "sueldo_mensual_total = df[\"salario_bruto_mensual\"].sum()\n",
    "sueldo_semanal_total = sueldo_mensual_total / 4\n",
    "costo_hora_equipo = sueldo_semanal_total / HORAS_SEMANA\n",
    "\n",
    "costo_decisiones_mes_topdown = costo_hora_equipo * HORAS_DECISION_EQUIPO_MES\n",
    "\n",
    "\n",
    "\n",
    "df = df.with_columns([\n",
    "    (pl.col(\"salario_bruto_mensual\") / 4).alias(\"sueldo_semanal\"),\n",
    "    (pl.col(\"salario_bruto_mensual\") / 4 / HORAS_SEMANA).alias(\"sueldo_hora\"), #\n",
    "])\n",
    "print(df.head(10))\n",
    "\n",
    "costo_total_hora_decsision = df[\"sueldo_hora\"].sum()\n",
    "print(f\"{costo_total_hora_decsision:,.2f}\")\n",
    "print(f\"Costo hora en 3 dias de decision: ${costo_total_hora_decsision * (3 * 4*12)*5:,.2f}\") # HORA X 3 DÍAS X 4 SEMANAS"
   ]
  }
 ],
 "metadata": {
  "kernelspec": {
   "display_name": "sapal",
   "language": "python",
   "name": "python3"
  },
  "language_info": {
   "codemirror_mode": {
    "name": "ipython",
    "version": 3
   },
   "file_extension": ".py",
   "mimetype": "text/x-python",
   "name": "python",
   "nbconvert_exporter": "python",
   "pygments_lexer": "ipython3",
   "version": "3.12.9"
  }
 },
 "nbformat": 4,
 "nbformat_minor": 5
}
